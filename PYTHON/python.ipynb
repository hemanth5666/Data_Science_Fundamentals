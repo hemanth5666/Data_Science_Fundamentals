{
 "cells": [
  {
   "cell_type": "markdown",
   "id": "caa42515",
   "metadata": {},
   "source": [
    "# DOC STRING"
   ]
  },
  {
   "cell_type": "raw",
   "id": "c2ab771f",
   "metadata": {},
   "source": [
    "Docstrings provide a convenient way of associating documentation with functions. classes,\n",
    "or modules."
   ]
  },
  {
   "cell_type": "code",
   "execution_count": 1,
   "id": "acc64cb7",
   "metadata": {},
   "outputs": [
    {
     "data": {
      "text/plain": [
       "15"
      ]
     },
     "execution_count": 1,
     "metadata": {},
     "output_type": "execute_result"
    }
   ],
   "source": [
    "def my_function(a,b):\n",
    "    '''This function about adding two numbers'''\n",
    "    return a+b\n",
    "my_function(10,5)"
   ]
  },
  {
   "cell_type": "code",
   "execution_count": 2,
   "id": "61008d96",
   "metadata": {
    "scrolled": true
   },
   "outputs": [
    {
     "data": {
      "text/plain": [
       "'This function about adding two numbers'"
      ]
     },
     "execution_count": 2,
     "metadata": {},
     "output_type": "execute_result"
    }
   ],
   "source": [
    "my_function.__doc__"
   ]
  },
  {
   "cell_type": "markdown",
   "id": "0cca7db0",
   "metadata": {},
   "source": [
    "# DATA TYPES"
   ]
  },
  {
   "cell_type": "code",
   "execution_count": 3,
   "id": "b8be6467",
   "metadata": {},
   "outputs": [],
   "source": [
    "# Numeric\n",
    "int_=10 \n",
    "float_=2.4 \n",
    "complex_=3+8j\n",
    "\n",
    "# Sequence\n",
    "list_=[1,2,3,4]\n",
    "tuple_=(1,2,3,4)\n",
    "\n",
    "#Mapping\n",
    "dict_={'a':1,'b':2}\n",
    "\n",
    "# set\n",
    "set_={1,2,3,4}\n",
    "\n",
    "#bool\n",
    "bool_=True\n",
    "\n",
    "# string\n",
    "string_=\"Hello\""
   ]
  },
  {
   "cell_type": "markdown",
   "id": "310ca8a9",
   "metadata": {},
   "source": [
    "# CONDITIONAL AND LOOP STATEMENT"
   ]
  },
  {
   "cell_type": "code",
   "execution_count": 4,
   "id": "55d91930",
   "metadata": {},
   "outputs": [
    {
     "name": "stdout",
     "output_type": "stream",
     "text": [
      "hi\n"
     ]
    }
   ],
   "source": [
    "# if .. else\n",
    "if(True):\n",
    "    print(\"hi\")\n",
    "else:\n",
    "    print(\"hello\")\n",
    "# short hand   print(\"A\") if a > b else print(\"B\")"
   ]
  },
  {
   "cell_type": "code",
   "execution_count": 5,
   "id": "8801ea7d",
   "metadata": {},
   "outputs": [
    {
     "name": "stdout",
     "output_type": "stream",
     "text": [
      "elif\n"
     ]
    }
   ],
   "source": [
    "# if ... elif ... else\n",
    "flag=1\n",
    "if(flag==0):\n",
    "    print(\"if\")\n",
    "elif(flag==1):\n",
    "    print(\"elif\")\n",
    "else:\n",
    "    print(\"else\")"
   ]
  },
  {
   "cell_type": "code",
   "execution_count": 6,
   "id": "71a82474",
   "metadata": {},
   "outputs": [
    {
     "name": "stdout",
     "output_type": "stream",
     "text": [
      "inside if\n"
     ]
    }
   ],
   "source": [
    "#Nested if\n",
    "flag =1\n",
    "if(flag>0):\n",
    "    if(flag==1):\n",
    "        print(\"inside if\")\n",
    "    else:\n",
    "        print(\"inside else\")\n",
    "else:\n",
    "    pass"
   ]
  },
  {
   "cell_type": "code",
   "execution_count": 7,
   "id": "7de9bb7f",
   "metadata": {},
   "outputs": [
    {
     "name": "stdout",
     "output_type": "stream",
     "text": [
      "1\n",
      "2\n",
      "3\n",
      "4\n",
      "i is no longer less than 5\n"
     ]
    }
   ],
   "source": [
    "# looping\n",
    "# for and while\n",
    "i = 1\n",
    "while i < 5:\n",
    "  print(i)\n",
    "  i += 1\n",
    "else:\n",
    "  print(\"i is no longer less than 5\")"
   ]
  },
  {
   "cell_type": "code",
   "execution_count": 8,
   "id": "aff8f76c",
   "metadata": {},
   "outputs": [
    {
     "name": "stdout",
     "output_type": "stream",
     "text": [
      "1\n",
      "2\n"
     ]
    }
   ],
   "source": [
    "# break\n",
    "i = 1\n",
    "while i < 5:\n",
    "    print(i)\n",
    "    i += 1\n",
    "    if(i==3):\n",
    "        break\n",
    "\n",
    "else:\n",
    "  print(\"i is no longer less than 5\")"
   ]
  },
  {
   "cell_type": "code",
   "execution_count": 9,
   "id": "c1074c4a",
   "metadata": {},
   "outputs": [
    {
     "name": "stdout",
     "output_type": "stream",
     "text": [
      "1\n",
      "2\n",
      "3\n",
      "4\n",
      "i is no longer less than 5\n"
     ]
    }
   ],
   "source": [
    "# continue\n",
    "# break\n",
    "i = 1\n",
    "while i < 5:\n",
    "    print(i)\n",
    "    i += 1\n",
    "    if(i==3):\n",
    "        continue\n",
    "\n",
    "else:\n",
    "  print(\"i is no longer less than 5\")"
   ]
  },
  {
   "cell_type": "code",
   "execution_count": 10,
   "id": "9e2bab48",
   "metadata": {},
   "outputs": [
    {
     "name": "stdout",
     "output_type": "stream",
     "text": [
      "0 1 2 3 4 "
     ]
    }
   ],
   "source": [
    "# for loop\n",
    "for x in range(5):\n",
    "  print(x, end=\" \")"
   ]
  },
  {
   "cell_type": "markdown",
   "id": "63bd569c",
   "metadata": {},
   "source": [
    "# BOOLEAN"
   ]
  },
  {
   "cell_type": "code",
   "execution_count": 1,
   "id": "f099f04d",
   "metadata": {
    "scrolled": true
   },
   "outputs": [
    {
     "name": "stdout",
     "output_type": "stream",
     "text": [
      "True False False\n"
     ]
    }
   ],
   "source": [
    "bool_1=bool(1)\n",
    "bool_2=bool(0)\n",
    "bool_3=bool(None)\n",
    "print(bool_1,bool_2,bool_3)"
   ]
  },
  {
   "cell_type": "markdown",
   "id": "d375ecf9",
   "metadata": {},
   "source": [
    "# CASTING"
   ]
  },
  {
   "cell_type": "code",
   "execution_count": 2,
   "id": "9f2f4753",
   "metadata": {},
   "outputs": [],
   "source": [
    "# int()\n",
    "# str()\n",
    "# bool()\n",
    "# float()\n",
    "# list()\n",
    "# tuple()\n",
    "# set()\n"
   ]
  },
  {
   "cell_type": "markdown",
   "id": "1c1d12f4",
   "metadata": {},
   "source": [
    "# STRING"
   ]
  },
  {
   "cell_type": "code",
   "execution_count": 3,
   "id": "fb71ae1f",
   "metadata": {},
   "outputs": [
    {
     "name": "stdout",
     "output_type": "stream",
     "text": [
      "<class 'type'>\n"
     ]
    },
    {
     "data": {
      "text/plain": [
       "True"
      ]
     },
     "execution_count": 3,
     "metadata": {},
     "output_type": "execute_result"
    }
   ],
   "source": [
    "str_=\"Hello World\"\n",
    "print(type(str))\n",
    "isinstance(str_,str)"
   ]
  },
  {
   "cell_type": "code",
   "execution_count": 4,
   "id": "181f3fdd",
   "metadata": {},
   "outputs": [
    {
     "data": {
      "text/plain": [
       "'H'"
      ]
     },
     "execution_count": 4,
     "metadata": {},
     "output_type": "execute_result"
    }
   ],
   "source": [
    "str_[0]"
   ]
  },
  {
   "cell_type": "code",
   "execution_count": 5,
   "id": "988f88fb",
   "metadata": {},
   "outputs": [
    {
     "data": {
      "text/plain": [
       "'d'"
      ]
     },
     "execution_count": 5,
     "metadata": {},
     "output_type": "execute_result"
    }
   ],
   "source": [
    "str_[-1]"
   ]
  },
  {
   "cell_type": "code",
   "execution_count": 6,
   "id": "327342a4",
   "metadata": {},
   "outputs": [
    {
     "name": "stdout",
     "output_type": "stream",
     "text": [
      "llo\n",
      "World\n"
     ]
    },
    {
     "data": {
      "text/plain": [
       "'dlroW olleH'"
      ]
     },
     "execution_count": 6,
     "metadata": {},
     "output_type": "execute_result"
    }
   ],
   "source": [
    "# str slicing \n",
    "print(str_[2:5])  #forward\n",
    "print(str_[-5:]) #backward\n",
    "str_[::-1] #reverse"
   ]
  },
  {
   "cell_type": "markdown",
   "id": "ddc65571",
   "metadata": {},
   "source": [
    "# CONCATENATION"
   ]
  },
  {
   "cell_type": "code",
   "execution_count": 7,
   "id": "aa23c8e3",
   "metadata": {},
   "outputs": [
    {
     "name": "stdout",
     "output_type": "stream",
     "text": [
      "first second\n",
      "Hello WorldHello WorldHello World\n",
      "first:second\n",
      "first second ,"
     ]
    }
   ],
   "source": [
    "str_1=\"first\"\n",
    "str_2=\"second\"\n",
    "print(str_1+\" \"+str_2)\n",
    "print(str_*3) #muliple\n",
    "print(str_1,str_2,sep=\":\") #sep \n",
    "print(str_1,str_2,end=\" ,\") #end"
   ]
  },
  {
   "cell_type": "code",
   "execution_count": 8,
   "id": "38354164",
   "metadata": {},
   "outputs": [
    {
     "ename": "NameError",
     "evalue": "name 'str_' is not defined",
     "output_type": "error",
     "traceback": [
      "\u001b[1;31m---------------------------------------------------------------------------\u001b[0m",
      "\u001b[1;31mNameError\u001b[0m                                 Traceback (most recent call last)",
      "Cell \u001b[1;32mIn[8], line 3\u001b[0m\n\u001b[0;32m      1\u001b[0m \u001b[38;5;66;03m# delete string\u001b[39;00m\n\u001b[0;32m      2\u001b[0m \u001b[38;5;28;01mdel\u001b[39;00m str_\n\u001b[1;32m----> 3\u001b[0m \u001b[38;5;28mprint\u001b[39m(\u001b[43mstr_\u001b[49m)\n",
      "\u001b[1;31mNameError\u001b[0m: name 'str_' is not defined"
     ]
    }
   ],
   "source": [
    "# delete string\n",
    "del str_\n",
    "print(str_)"
   ]
  },
  {
   "cell_type": "markdown",
   "id": "a7f88dd9",
   "metadata": {},
   "source": [
    "# PARTITION"
   ]
  },
  {
   "cell_type": "code",
   "execution_count": 9,
   "id": "f5a10021",
   "metadata": {},
   "outputs": [
    {
     "name": "stdout",
     "output_type": "stream",
     "text": [
      "('Hello, how ', 'are', ' your?, are they?')\n"
     ]
    }
   ],
   "source": [
    "str_part=\"Hello, how are your?, are they?\"\n",
    "print(str_part.partition(\"are\")) #partition the sentence"
   ]
  },
  {
   "cell_type": "code",
   "execution_count": 10,
   "id": "2d1e4c52",
   "metadata": {},
   "outputs": [
    {
     "name": "stdout",
     "output_type": "stream",
     "text": [
      "('Hello, how are your?, ', 'are', ' they?')\n"
     ]
    }
   ],
   "source": [
    "print(str_part.rpartition(\"are\")) #last"
   ]
  },
  {
   "cell_type": "markdown",
   "id": "a05ccc6d",
   "metadata": {},
   "source": [
    "# FUNTIONS"
   ]
  },
  {
   "cell_type": "code",
   "execution_count": 11,
   "id": "8d7f0ca1",
   "metadata": {},
   "outputs": [
    {
     "name": "stdout",
     "output_type": "stream",
     "text": [
      "     hi    "
     ]
    }
   ],
   "source": [
    "str_strip=\"**********     hi    *******\"\n",
    "print(str_strip.strip(\"*\"),end=\"\")"
   ]
  },
  {
   "cell_type": "code",
   "execution_count": 12,
   "id": "15984619",
   "metadata": {},
   "outputs": [
    {
     "name": "stdout",
     "output_type": "stream",
     "text": [
      "**********     hi    "
     ]
    }
   ],
   "source": [
    "print(str_strip.rstrip(\"*\"),end=\"\")"
   ]
  },
  {
   "cell_type": "code",
   "execution_count": 13,
   "id": "0d0fc30b",
   "metadata": {
    "scrolled": true
   },
   "outputs": [
    {
     "name": "stdout",
     "output_type": "stream",
     "text": [
      "     hi    *******"
     ]
    }
   ],
   "source": [
    "print(str_strip.lstrip(\"*\"),end=\"\")"
   ]
  },
  {
   "cell_type": "code",
   "execution_count": 14,
   "id": "c91782a2",
   "metadata": {},
   "outputs": [
    {
     "name": "stdout",
     "output_type": "stream",
     "text": [
      "2\n"
     ]
    }
   ],
   "source": [
    "print(str_part.count(\"are\"))  #count"
   ]
  },
  {
   "cell_type": "code",
   "execution_count": 15,
   "id": "f931db34",
   "metadata": {},
   "outputs": [
    {
     "name": "stdout",
     "output_type": "stream",
     "text": [
      "['welcome', 'everyone']\n"
     ]
    }
   ],
   "source": [
    "str_ex=\"welcome everyone\"\n",
    "print(str_ex.split())"
   ]
  },
  {
   "cell_type": "code",
   "execution_count": 16,
   "id": "5910d07f",
   "metadata": {},
   "outputs": [
    {
     "data": {
      "text/plain": [
       "8"
      ]
     },
     "execution_count": 16,
     "metadata": {},
     "output_type": "execute_result"
    }
   ],
   "source": [
    "str_ex.find(\"everyone\")"
   ]
  },
  {
   "cell_type": "code",
   "execution_count": 17,
   "id": "4bb6d7c1",
   "metadata": {},
   "outputs": [
    {
     "data": {
      "text/plain": [
       "'welcome ,hi'"
      ]
     },
     "execution_count": 17,
     "metadata": {},
     "output_type": "execute_result"
    }
   ],
   "source": [
    "str_ex.replace(\"everyone\",\",hi\")"
   ]
  },
  {
   "cell_type": "code",
   "execution_count": 18,
   "id": "4dd63335",
   "metadata": {},
   "outputs": [
    {
     "data": {
      "text/plain": [
       "0"
      ]
     },
     "execution_count": 18,
     "metadata": {},
     "output_type": "execute_result"
    }
   ],
   "source": [
    "str_ex.index(\"welcome\")"
   ]
  },
  {
   "cell_type": "code",
   "execution_count": 19,
   "id": "2d382343",
   "metadata": {},
   "outputs": [
    {
     "name": "stdout",
     "output_type": "stream",
     "text": [
      "True True True True False False False True\n"
     ]
    }
   ],
   "source": [
    "num_=\"10\"\n",
    "print(num_.isnumeric(),\n",
    "num_.isalnum(),\n",
    "num_.isdecimal(),\n",
    "num_.isdigit(),\n",
    "num_.islower(),\n",
    "num_.isupper(),\n",
    "num_.isspace(),\n",
    "num_.isascii())"
   ]
  },
  {
   "cell_type": "markdown",
   "id": "37ea07e3",
   "metadata": {},
   "source": [
    "# LIST"
   ]
  },
  {
   "cell_type": "code",
   "execution_count": 20,
   "id": "3897cd7a",
   "metadata": {},
   "outputs": [
    {
     "name": "stdout",
     "output_type": "stream",
     "text": [
      "7\n",
      "[1, 2, 3, 4, 5]\n",
      "[2, 3, 4]\n",
      "[4, 5]\n",
      "[1, 2]\n"
     ]
    }
   ],
   "source": [
    "list_1=[1,2,3,4,5]\n",
    "list_type=[\"hi\",5.8,7,[5,7,8,9],(7,8,2)]\n",
    "print(list_type[2])\n",
    "type(list_type)\n",
    "print(list_1[:5])\n",
    "print(list_1[1:4])\n",
    "print(list_1[-2:])\n",
    "print(list_1[:-3])"
   ]
  },
  {
   "cell_type": "markdown",
   "id": "aee24d29",
   "metadata": {},
   "source": [
    "# LIST FUNCTION"
   ]
  },
  {
   "cell_type": "code",
   "execution_count": 21,
   "id": "e94b1322",
   "metadata": {},
   "outputs": [
    {
     "name": "stdout",
     "output_type": "stream",
     "text": [
      "None\n",
      "None\n",
      "10\n",
      "5\n"
     ]
    },
    {
     "ename": "NameError",
     "evalue": "name 'list_1' is not defined",
     "output_type": "error",
     "traceback": [
      "\u001b[1;31m---------------------------------------------------------------------------\u001b[0m",
      "\u001b[1;31mNameError\u001b[0m                                 Traceback (most recent call last)",
      "Cell \u001b[1;32mIn[21], line 6\u001b[0m\n\u001b[0;32m      4\u001b[0m \u001b[38;5;28mprint\u001b[39m(list_1\u001b[38;5;241m.\u001b[39mpop(\u001b[38;5;241m5\u001b[39m))\n\u001b[0;32m      5\u001b[0m \u001b[38;5;28;01mdel\u001b[39;00m list_1 \u001b[38;5;66;03m#.clear()\u001b[39;00m\n\u001b[1;32m----> 6\u001b[0m \u001b[38;5;28mprint\u001b[39m(\u001b[43mlist_1\u001b[49m)\n",
      "\u001b[1;31mNameError\u001b[0m: name 'list_1' is not defined"
     ]
    }
   ],
   "source": [
    "print(list_1.append(10))\n",
    "print(list_1.insert(0,\"hi\"))\n",
    "print(list_1.pop())   #remove last element\n",
    "print(list_1.pop(5))\n",
    "del list_1 #.clear()\n",
    "print(list_1)"
   ]
  },
  {
   "cell_type": "markdown",
   "id": "a4662025",
   "metadata": {},
   "source": [
    "# LOOPING & MEMBERSHIP "
   ]
  },
  {
   "cell_type": "code",
   "execution_count": 22,
   "id": "7b47ef91",
   "metadata": {
    "scrolled": true
   },
   "outputs": [
    {
     "name": "stdout",
     "output_type": "stream",
     "text": [
      "hi\n",
      "5.8\n",
      "7\n",
      "[5, 7, 8, 9]\n",
      "(7, 8, 2)\n"
     ]
    }
   ],
   "source": [
    "for i in list_type:\n",
    "    print(i)"
   ]
  },
  {
   "cell_type": "code",
   "execution_count": 23,
   "id": "e440d5e2",
   "metadata": {},
   "outputs": [
    {
     "name": "stdout",
     "output_type": "stream",
     "text": [
      "(0, 'hi')\n",
      "(1, 5.8)\n",
      "(2, 7)\n",
      "(3, [5, 7, 8, 9])\n",
      "(4, (7, 8, 2))\n"
     ]
    }
   ],
   "source": [
    "for i in enumerate(list_type):\n",
    "    print(i)"
   ]
  },
  {
   "cell_type": "code",
   "execution_count": 24,
   "id": "23d8c194",
   "metadata": {},
   "outputs": [
    {
     "name": "stdout",
     "output_type": "stream",
     "text": [
      "[2, 3, 4, 6, 8, 57]\n",
      "[2, 3, 4, 6, 8, 57]\n",
      "[57, 8, 6, 4, 3, 2]\n"
     ]
    }
   ],
   "source": [
    "# reverse & sort & sorted\n",
    "sort_reverse=[3,6,4,57,8,2]\n",
    "sort_reverse.sort()\n",
    "print(sort_reverse)\n",
    "print(sorted(sort_reverse))\n",
    "sort_reverse.sort(reverse=True)\n",
    "print(sort_reverse)"
   ]
  },
  {
   "cell_type": "code",
   "execution_count": 25,
   "id": "caaecfb2",
   "metadata": {},
   "outputs": [
    {
     "data": {
      "text/plain": [
       "True"
      ]
     },
     "execution_count": 25,
     "metadata": {},
     "output_type": "execute_result"
    }
   ],
   "source": [
    "any(sort_reverse)"
   ]
  },
  {
   "cell_type": "code",
   "execution_count": 26,
   "id": "010441f2",
   "metadata": {},
   "outputs": [
    {
     "data": {
      "text/plain": [
       "True"
      ]
     },
     "execution_count": 26,
     "metadata": {},
     "output_type": "execute_result"
    }
   ],
   "source": [
    "all(sort_reverse)"
   ]
  },
  {
   "cell_type": "markdown",
   "id": "a0d0ac37",
   "metadata": {},
   "source": [
    "# TUPLE"
   ]
  },
  {
   "cell_type": "code",
   "execution_count": 36,
   "id": "58441f01",
   "metadata": {},
   "outputs": [
    {
     "data": {
      "text/plain": [
       "(1,)"
      ]
     },
     "execution_count": 36,
     "metadata": {},
     "output_type": "execute_result"
    }
   ],
   "source": [
    "(1,) #tuple"
   ]
  },
  {
   "cell_type": "code",
   "execution_count": 28,
   "id": "121a3e9f",
   "metadata": {},
   "outputs": [
    {
     "name": "stdout",
     "output_type": "stream",
     "text": [
      "1\n"
     ]
    },
    {
     "data": {
      "text/plain": [
       "2"
      ]
     },
     "execution_count": 28,
     "metadata": {},
     "output_type": "execute_result"
    }
   ],
   "source": [
    "tuple_=(1,2.3,\"hi\",1)\n",
    "print(tuple_.index(2.3))\n",
    "tuple_.count(1)"
   ]
  },
  {
   "cell_type": "code",
   "execution_count": 39,
   "id": "02e2c288",
   "metadata": {},
   "outputs": [
    {
     "name": "stdout",
     "output_type": "stream",
     "text": [
      "(1, 4, 6, 7, 4, 8)\n"
     ]
    }
   ],
   "source": [
    "tuple_a=(1,4,6)\n",
    "tuple_b=(7,4,8)\n",
    "print(tuple_a+tuple_b)\n",
    "tuple_x=tuple_a+tuple_b\n"
   ]
  },
  {
   "cell_type": "code",
   "execution_count": 31,
   "id": "dcda93de",
   "metadata": {},
   "outputs": [
    {
     "data": {
      "text/plain": [
       "(1, 4, 6, 1, 4, 6, 1, 4, 6)"
      ]
     },
     "execution_count": 31,
     "metadata": {},
     "output_type": "execute_result"
    }
   ],
   "source": [
    "tuple_a*3"
   ]
  },
  {
   "cell_type": "code",
   "execution_count": 33,
   "id": "96b33e1f",
   "metadata": {
    "scrolled": true
   },
   "outputs": [
    {
     "name": "stdout",
     "output_type": "stream",
     "text": [
      "1\n",
      "4\n",
      "6\n"
     ]
    }
   ],
   "source": [
    "for i in tuple_a:\n",
    "    print(i)"
   ]
  },
  {
   "cell_type": "code",
   "execution_count": 35,
   "id": "25c9e7ce",
   "metadata": {
    "scrolled": true
   },
   "outputs": [
    {
     "name": "stdout",
     "output_type": "stream",
     "text": [
      "1\n",
      "[2, 3, 4, 5, 4, 8]\n",
      "0\n"
     ]
    }
   ],
   "source": [
    "# Asterisk\n",
    "ex_tuple=(1,2,3,4,5,4,8,0)\n",
    "(x,*y,z)=ex_tuple\n",
    "print(x)\n",
    "print(y)\n",
    "print(z)"
   ]
  },
  {
   "cell_type": "code",
   "execution_count": 40,
   "id": "ca17cd1b",
   "metadata": {},
   "outputs": [
    {
     "data": {
      "text/plain": [
       "(1, 4, 6, 7, 4, 8)"
      ]
     },
     "execution_count": 40,
     "metadata": {},
     "output_type": "execute_result"
    }
   ],
   "source": [
    "tuple_x[:]"
   ]
  },
  {
   "cell_type": "code",
   "execution_count": 43,
   "id": "bfe52df1",
   "metadata": {
    "scrolled": true
   },
   "outputs": [
    {
     "name": "stdout",
     "output_type": "stream",
     "text": [
      "(4, 6, 7)\n",
      "(4, 6)\n"
     ]
    },
    {
     "data": {
      "text/plain": [
       "(8, 4, 7, 6, 4, 1)"
      ]
     },
     "execution_count": 43,
     "metadata": {},
     "output_type": "execute_result"
    }
   ],
   "source": [
    "print(tuple_x[-5:-2])\n",
    "print(tuple_x[1:3])\n",
    "tuple_x[::-1]"
   ]
  },
  {
   "cell_type": "code",
   "execution_count": 45,
   "id": "4c8b56f8",
   "metadata": {},
   "outputs": [
    {
     "name": "stdout",
     "output_type": "stream",
     "text": [
      "(1, 4, 6, 7, 4, 8, 1, 2.3, 'hi', 1, 88)\n"
     ]
    }
   ],
   "source": [
    "# tuple is immutable (unchangeable)\n",
    "# one of the way to update\n",
    "tuple_1=(88,)\n",
    "tuple_x+=tuple_1\n",
    "print(tuple_x)"
   ]
  },
  {
   "cell_type": "markdown",
   "id": "d939e97c",
   "metadata": {},
   "source": [
    "# SET"
   ]
  },
  {
   "cell_type": "code",
   "execution_count": null,
   "id": "1b1570a8",
   "metadata": {},
   "outputs": [],
   "source": [
    "# set is non duplicate mutable data type"
   ]
  },
  {
   "cell_type": "code",
   "execution_count": 47,
   "id": "6589e9b9",
   "metadata": {},
   "outputs": [
    {
     "data": {
      "text/plain": [
       "{1, 4, 5, 8}"
      ]
     },
     "execution_count": 47,
     "metadata": {},
     "output_type": "execute_result"
    }
   ],
   "source": [
    "set_={1,5,8,4,5,4} #duplicate are removed\n",
    "set_"
   ]
  },
  {
   "cell_type": "code",
   "execution_count": 57,
   "id": "c70d5a32",
   "metadata": {},
   "outputs": [],
   "source": [
    "#function\n",
    "set_a={1,8,5,7,2,6}\n",
    "set_={1,5,8,4,5,4}"
   ]
  },
  {
   "cell_type": "code",
   "execution_count": 58,
   "id": "ab140ccd",
   "metadata": {},
   "outputs": [
    {
     "name": "stdout",
     "output_type": "stream",
     "text": [
      "None {4} {8, 1, 5} {1, 2, 4, 5, 6, 7, 8} {2, 4, 6, 7} 8 None {1, 4, 5, 70, 8}\n"
     ]
    }
   ],
   "source": [
    "print(set_.add(5),\n",
    "set_.difference(set_a),\n",
    "set_.intersection(set_a),\n",
    "set_.union(set_a),\n",
    "set_.symmetric_difference(set_a),\n",
    "set_.pop(),\n",
    "set_.update([5,8,70]),\n",
    "set_)"
   ]
  },
  {
   "cell_type": "code",
   "execution_count": 59,
   "id": "072c55e9",
   "metadata": {},
   "outputs": [
    {
     "data": {
      "text/plain": [
       "[(0, 1), (1, 4), (2, 5), (3, 70), (4, 8)]"
      ]
     },
     "execution_count": 59,
     "metadata": {},
     "output_type": "execute_result"
    }
   ],
   "source": [
    "list(enumerate(set_))"
   ]
  },
  {
   "cell_type": "markdown",
   "id": "10550a09",
   "metadata": {},
   "source": [
    "# DICT"
   ]
  },
  {
   "cell_type": "code",
   "execution_count": 60,
   "id": "6b1236a9",
   "metadata": {},
   "outputs": [
    {
     "data": {
      "text/plain": [
       "{'A': 1, 'B': 2, 'C': 3}"
      ]
     },
     "execution_count": 60,
     "metadata": {},
     "output_type": "execute_result"
    }
   ],
   "source": [
    "dict_={\"A\":1,\"B\":2,\"C\":3}\n",
    "dict_"
   ]
  },
  {
   "cell_type": "code",
   "execution_count": 61,
   "id": "0f442bbe",
   "metadata": {},
   "outputs": [
    {
     "data": {
      "text/plain": [
       "dict_items([('A', 1), ('B', 2), ('C', 3)])"
      ]
     },
     "execution_count": 61,
     "metadata": {},
     "output_type": "execute_result"
    }
   ],
   "source": [
    "dict_.items()"
   ]
  },
  {
   "cell_type": "code",
   "execution_count": 62,
   "id": "3a182494",
   "metadata": {},
   "outputs": [
    {
     "data": {
      "text/plain": [
       "dict_values([1, 2, 3])"
      ]
     },
     "execution_count": 62,
     "metadata": {},
     "output_type": "execute_result"
    }
   ],
   "source": [
    "dict_.values()"
   ]
  },
  {
   "cell_type": "code",
   "execution_count": 64,
   "id": "7d5c5bc7",
   "metadata": {},
   "outputs": [
    {
     "data": {
      "text/plain": [
       "dict_keys(['A', 'B', 'C'])"
      ]
     },
     "execution_count": 64,
     "metadata": {},
     "output_type": "execute_result"
    }
   ],
   "source": [
    "dict_.keys()"
   ]
  },
  {
   "cell_type": "code",
   "execution_count": 66,
   "id": "aeaf52ad",
   "metadata": {},
   "outputs": [
    {
     "data": {
      "text/plain": [
       "{1: {2, 3, 5, 7}, 4: {2, 3, 5, 7}, 7: {2, 3, 5, 7}, 3: {2, 3, 5, 7}}"
      ]
     },
     "execution_count": 66,
     "metadata": {},
     "output_type": "execute_result"
    }
   ],
   "source": [
    "a=[1,4,7,3]\n",
    "b={2,5,3,7}\n",
    "dict_.fromkeys(a,b)"
   ]
  },
  {
   "cell_type": "code",
   "execution_count": 69,
   "id": "8449c065",
   "metadata": {
    "scrolled": true
   },
   "outputs": [],
   "source": [
    "# dict_.[]\n",
    "# dict_.get()           #Access the value"
   ]
  },
  {
   "cell_type": "code",
   "execution_count": 71,
   "id": "49e1deee",
   "metadata": {},
   "outputs": [
    {
     "data": {
      "text/plain": [
       "1"
      ]
     },
     "execution_count": 71,
     "metadata": {},
     "output_type": "execute_result"
    }
   ],
   "source": [
    "dict_.pop(\"A\")"
   ]
  },
  {
   "cell_type": "code",
   "execution_count": null,
   "id": "3d62ef64",
   "metadata": {},
   "outputs": [],
   "source": [
    "# (*)args & (**)kwargs\n",
    "# *args -> variable length Non Keyword Arguments (passed as a tuple)\n",
    "# **kwargs -> variable length Keyword Arguments (passed as a dictionary)"
   ]
  },
  {
   "cell_type": "code",
   "execution_count": null,
   "id": "6bf486a7",
   "metadata": {},
   "outputs": [],
   "source": []
  },
  {
   "cell_type": "markdown",
   "id": "45ec1c90",
   "metadata": {},
   "source": [
    "# LAMBDA , MAP , REDUCE , FILTER"
   ]
  },
  {
   "cell_type": "code",
   "execution_count": 2,
   "id": "6d2dd643",
   "metadata": {},
   "outputs": [
    {
     "data": {
      "text/plain": [
       "(30, 100, 280)"
      ]
     },
     "execution_count": 2,
     "metadata": {},
     "output_type": "execute_result"
    }
   ],
   "source": [
    "res = (lambda *args: sum(args))  \n",
    "res(10,20) , res(10,20,30,40) ,  res(10,20,30,40,50,60,70)"
   ]
  },
  {
   "cell_type": "code",
   "execution_count": 4,
   "id": "fc1eaab3",
   "metadata": {},
   "outputs": [
    {
     "data": {
      "text/plain": [
       "[2, 16, 14, 10, 18, 66]"
      ]
     },
     "execution_count": 4,
     "metadata": {},
     "output_type": "execute_result"
    }
   ],
   "source": [
    "odd_num=[1,8,7,5,9,33]\n",
    "def twice(n):\n",
    "    return n*2\n",
    "doubles = list(map(twice,odd_num))\n",
    "doubles"
   ]
  },
  {
   "cell_type": "code",
   "execution_count": 5,
   "id": "ac36e321",
   "metadata": {},
   "outputs": [
    {
     "data": {
      "text/plain": [
       "126"
      ]
     },
     "execution_count": 5,
     "metadata": {},
     "output_type": "execute_result"
    }
   ],
   "source": [
    "from functools import reduce\n",
    "def add(a,b):\n",
    "    return a+b\n",
    "sum_all = reduce(add,doubles)\n",
    "sum_all"
   ]
  },
  {
   "cell_type": "code",
   "execution_count": 6,
   "id": "a96586a3",
   "metadata": {},
   "outputs": [
    {
     "data": {
      "text/plain": [
       "[1, 3, 5, 7, 9]"
      ]
     },
     "execution_count": 6,
     "metadata": {},
     "output_type": "execute_result"
    }
   ],
   "source": [
    "list1 = [1,2,3,4,5,6,7,8,9]\n",
    "def odd(n):\n",
    "    if n%2 ==1: return True\n",
    "    else: return False\n",
    "odd_num = list(filter(odd,list1))\n",
    "odd_num"
   ]
  },
  {
   "cell_type": "markdown",
   "id": "49068ecb",
   "metadata": {},
   "source": [
    "# CLASS & OBJECT"
   ]
  },
  {
   "cell_type": "code",
   "execution_count": 7,
   "id": "8bfd1134",
   "metadata": {
    "scrolled": true
   },
   "outputs": [
    {
     "name": "stdout",
     "output_type": "stream",
     "text": [
      "100\n"
     ]
    }
   ],
   "source": [
    "class my_class:\n",
    "    var_1 = 100\n",
    "obj1 = my_class() \n",
    "print(obj1.var_1)"
   ]
  },
  {
   "cell_type": "code",
   "execution_count": 10,
   "id": "9522cbbc",
   "metadata": {
    "scrolled": true
   },
   "outputs": [
    {
     "name": "stdout",
     "output_type": "stream",
     "text": [
      "115\n"
     ]
    }
   ],
   "source": [
    "class myclass:\n",
    "    def __init__(self,a):\n",
    "        self.var_1 = 100+a\n",
    "obj1 = myclass(15) \n",
    "print(obj1.var_1)"
   ]
  },
  {
   "cell_type": "markdown",
   "id": "e95b8331",
   "metadata": {},
   "source": [
    "# Inheritance"
   ]
  },
  {
   "cell_type": "code",
   "execution_count": 11,
   "id": "95542d0a",
   "metadata": {
    "scrolled": true
   },
   "outputs": [
    {
     "name": "stdout",
     "output_type": "stream",
     "text": [
      "Name :- Basit\n",
      "Age :- 36\n",
      "Gender :- Male\n",
      "Employee ID :- 456\n",
      "Salary :- 80000\n",
      "Contract Expiry :- 21-12-2021\n",
      "Contractual Employee Details\n",
      "****************************\n",
      "\n",
      " \n",
      "\n"
     ]
    }
   ],
   "source": [
    "# multi level , single , hierarchical inheritance\n",
    "class person:   \n",
    "# Parent Class\n",
    "    def __init__(self, name , age , gender):\n",
    "        self.name = name\n",
    "        self.age = age\n",
    "        self.gender = gender\n",
    "    def PersonInfo(self):\n",
    "        print('Name :- {}'.format(self.name))\n",
    "        print('Age :- {}'.format(self.age))\n",
    "        print('Gender :- {}'.format(self.gender))\n",
    "        \n",
    "class employee(person): # Child Class\n",
    "    def __init__(self,name,age,gender,empid,salary):\n",
    "        person.__init__(self,name,age,gender)\n",
    "        self.empid = empid\n",
    "        self.salary = salary\n",
    "    def employeeInfo(self):\n",
    "        print('Employee ID :- {}'.format(self.empid))\n",
    "        print('Salary :- {}'.format(self.salary))\n",
    "        \n",
    "class fulltime(employee): # Grand Child Class\n",
    "    def __init__(self,name,age,gender,empid,salary,WorkExperience):\n",
    "        employee.__init__(self,name,age,gender,empid,salary)\n",
    "        self.WorkExperience = WorkExperience\n",
    "    def FulltimeInfo(self):\n",
    "        print('Work Experience :- {}'.format(self.WorkExperience))\n",
    "        \n",
    "class contractual(employee): # Grand Child Class\n",
    "    def __init__(self,name,age,gender,empid,salary,ContractExpiry):\n",
    "        employee.__init__(self,name,age,gender,empid,salary)\n",
    "        self.ContractExpiry = ContractExpiry\n",
    "    def ContractInfo(self):\n",
    "        print('Contract Expiry :- {}'.format(self.ContractExpiry))\n",
    "        print('Contractual Employee Details')\n",
    "        print('****************************')\n",
    "        \n",
    "contract1 = contractual('Basit' , 36 , 'Male' , 456 , 80000,'21-12-2021')\n",
    "contract1.PersonInfo()\n",
    "contract1.employeeInfo()\n",
    "contract1.ContractInfo()\n",
    "print('\\n \\n')"
   ]
  },
  {
   "cell_type": "code",
   "execution_count": 13,
   "id": "22171d99",
   "metadata": {},
   "outputs": [
    {
     "name": "stdout",
     "output_type": "stream",
     "text": [
      "My Name :-  Bill\n",
      "Father : John\n",
      "Mother : Kristen\n"
     ]
    }
   ],
   "source": [
    "# Super Class\n",
    "class Father:\n",
    "    def __init__(self):\n",
    "        self.fathername = str()\n",
    " # Super Class\n",
    "class Mother:\n",
    "    def __init__(self):\n",
    "        self.mothername = str()\n",
    " # Sub Class\n",
    "class Son(Father, Mother):\n",
    "    name = str()\n",
    "    def show(self):\n",
    "        print('My Name :- ',self.name)\n",
    "        print(\"Father :\", self.fathername)\n",
    "        print(\"Mother :\", self.mothername)\n",
    "s1 = Son()\n",
    "s1.name = 'Bill'\n",
    "s1.fathername = \"John\"\n",
    "s1.mothername = \"Kristen\"\n",
    "s1.show()"
   ]
  },
  {
   "cell_type": "code",
   "execution_count": 1,
   "id": "b028c231",
   "metadata": {},
   "outputs": [
    {
     "name": "stdout",
     "output_type": "stream",
     "text": [
      "Student Details\n",
      "---------------\n",
      "Name :- Asif\n",
      "Age :- 24\n",
      "Gender :- Male\n",
      "Student ID :- 123\n",
      "Fees :- 1200\n"
     ]
    }
   ],
   "source": [
    "class person:   # Parent Class\n",
    "    def __init__(self, name , age , gender):\n",
    "        self.name = name\n",
    "        self.age = age\n",
    "        self.gender = gender\n",
    "    def PersonInfo(self):\n",
    "        print('Name :- {}'.format(self.name))\n",
    "        print('Age :- {}'.format(self.age))\n",
    "        print('Gender :- {}'.format(self.gender))\n",
    "        \n",
    "class student(person): # Child Class\n",
    "    def __init__(self,name,age,gender,studentid,fees):\n",
    "        super().__init__(name,age,gender)  \n",
    "        self.studentid = studentid\n",
    "        self.fees = fees\n",
    "    def StudentInfo(self):\n",
    "        super().PersonInfo()\n",
    "        print('Student ID :- {}'.format(self.studentid))\n",
    "        print('Fees :- {}'.format(self.fees))\n",
    "stud = student('Asif' , 24 , 'Male' , 123 , 1200)\n",
    "print('Student Details')\n",
    "print('---------------')\n",
    "stud.StudentInfo()"
   ]
  },
  {
   "cell_type": "markdown",
   "id": "1745d6f4",
   "metadata": {},
   "source": [
    "# Iterator"
   ]
  },
  {
   "cell_type": "code",
   "execution_count": null,
   "id": "dcb4adb6",
   "metadata": {},
   "outputs": [],
   "source": [
    "# iter() \n",
    "# next() (StopIteration) -> .__next__()\n"
   ]
  },
  {
   "cell_type": "code",
   "execution_count": 14,
   "id": "096ca5bd",
   "metadata": {},
   "outputs": [
    {
     "name": "stdout",
     "output_type": "stream",
     "text": [
      "1\n",
      "5\n",
      "8\n"
     ]
    }
   ],
   "source": [
    "m=[1,5,8,2,7,6]\n",
    "x=iter(m)\n",
    "print(x.__next__())\n",
    "print(x.__next__())\n",
    "print(x.__next__())"
   ]
  },
  {
   "cell_type": "markdown",
   "id": "778f779f",
   "metadata": {},
   "source": [
    "#  Decorator"
   ]
  },
  {
   "cell_type": "code",
   "execution_count": 15,
   "id": "ed3b3b98",
   "metadata": {},
   "outputs": [
    {
     "name": "stdout",
     "output_type": "stream",
     "text": [
      "read terms and conditions\n",
      "login\n",
      "read terms and conditions\n",
      "login_page\n"
     ]
    }
   ],
   "source": [
    "def install_decorator(func):\n",
    "    def wrapper():\n",
    "        print(\"read terms and conditions\")\n",
    "        return func()\n",
    "    return wrapper()\n",
    "\n",
    "@install_decorator\n",
    "def A_user():\n",
    "    print(\"login\")\n",
    "\n",
    "@install_decorator\n",
    "def B_user():\n",
    "    print(\"login_page\")\n"
   ]
  }
 ],
 "metadata": {
  "kernelspec": {
   "display_name": "Python 3 (ipykernel)",
   "language": "python",
   "name": "python3"
  },
  "language_info": {
   "codemirror_mode": {
    "name": "ipython",
    "version": 3
   },
   "file_extension": ".py",
   "mimetype": "text/x-python",
   "name": "python",
   "nbconvert_exporter": "python",
   "pygments_lexer": "ipython3",
   "version": "3.10.4"
  }
 },
 "nbformat": 4,
 "nbformat_minor": 5
}
